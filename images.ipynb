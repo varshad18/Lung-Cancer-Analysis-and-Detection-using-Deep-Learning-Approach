{
 "cells": [
  {
   "cell_type": "code",
   "execution_count": 2,
   "id": "f418bb2c",
   "metadata": {},
   "outputs": [
    {
     "name": "stderr",
     "output_type": "stream",
     "text": [
      "1472it [00:10, 145.99it/s]\n"
     ]
    },
    {
     "name": "stdout",
     "output_type": "stream",
     "text": [
      "train images saved successfully\n"
     ]
    },
    {
     "name": "stderr",
     "output_type": "stream",
     "text": [
      "368it [00:02, 175.92it/s]"
     ]
    },
    {
     "name": "stdout",
     "output_type": "stream",
     "text": [
      "test images saved successfully\n"
     ]
    },
    {
     "name": "stderr",
     "output_type": "stream",
     "text": [
      "\n"
     ]
    }
   ],
   "source": [
    "import glob\n",
    "import cv2\n",
    "import numpy as np\n",
    "import os\n",
    "from tqdm import tqdm\n",
    "\n",
    "train_img = np.load(\"output_final/trainImages.npy\")\n",
    "train_mask = np.load(\"output_final/trainMasks.npy\")\n",
    "\n",
    "count = 0\n",
    "for img, mask in tqdm(zip(train_img,train_mask)):\n",
    "    img = img.reshape(512,512)\n",
    "    img = cv2.normalize(img,img,alpha=0,beta=255, norm_type=cv2.NORM_MINMAX, dtype=cv2.CV_32F)\n",
    "    \n",
    "    mask = mask.reshape(512,512)\n",
    "    mask = cv2.normalize(mask,mask,alpha=0,beta=255, norm_type=cv2.NORM_MINMAX, dtype=cv2.CV_32F)\n",
    "    mask[mask>0]=1\n",
    "    \n",
    "    cv2.imwrite(\"prepared_data/train/images/\"+str(count)+\".png\",img)\n",
    "    cv2.imwrite(\"prepared_data/train/masks/\"+str(count)+\".png\",mask)\n",
    "    count = count + 1\n",
    "print(\"train images saved successfully\")\n",
    "\n",
    "\n",
    "test_img = np.load(\"output_final/testImages.npy\")\n",
    "test_mask = np.load(\"output_final/testMasks.npy\")\n",
    "\n",
    "count = 0\n",
    "for img, mask in tqdm(zip(test_img,test_mask)):\n",
    "    img = img.reshape(512,512)\n",
    "    img = cv2.normalize(img,img,alpha=0,beta=255, norm_type=cv2.NORM_MINMAX, dtype=cv2.CV_32F)\n",
    "    \n",
    "    mask = mask.reshape(512,512)\n",
    "    mask = cv2.normalize(mask,mask,alpha=0,beta=255, norm_type=cv2.NORM_MINMAX, dtype=cv2.CV_32F)\n",
    "    mask[mask>0]=1\n",
    "    \n",
    "    cv2.imwrite(\"prepared_data/test/images/\"+str(count)+\".png\",img)\n",
    "    cv2.imwrite(\"prepared_data/test/masks/\"+str(count)+\".png\",mask)\n",
    "    count = count + 1\n",
    "print(\"test images saved successfully\")"
   ]
  },
  {
   "cell_type": "code",
   "execution_count": null,
   "id": "ef168e7f",
   "metadata": {},
   "outputs": [],
   "source": []
  }
 ],
 "metadata": {
  "kernelspec": {
   "display_name": "Python 3 (ipykernel)",
   "language": "python",
   "name": "python3"
  },
  "language_info": {
   "codemirror_mode": {
    "name": "ipython",
    "version": 3
   },
   "file_extension": ".py",
   "mimetype": "text/x-python",
   "name": "python",
   "nbconvert_exporter": "python",
   "pygments_lexer": "ipython3",
   "version": "3.9.7"
  }
 },
 "nbformat": 4,
 "nbformat_minor": 5
}
